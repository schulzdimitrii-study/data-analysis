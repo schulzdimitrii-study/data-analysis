{
 "cells": [
  {
   "cell_type": "markdown",
   "id": "d0f2b1a5",
   "metadata": {},
   "source": [
    "# Exercicio 1\n",
    "\n",
    "Crie um programa que leia o nome dos 5 primeiros colocados de um Campeonato de Futebol, na ordem de colocação, e coloque-os em uma lista.\n",
    "\n",
    "Depois o programa deve mostrar:\n",
    "Apenas os 3 primeiros colocados;\n",
    "Os últimos 2 colocados;\n",
    "Uma lista com os times em ordem alfabética;\n",
    "\n",
    "Depois o programa deve ler o nome de um dos times e dizer em que posição ele está no campeonato.\n",
    "\n",
    "### Entrada\n",
    "A entrada consiste de 6 linhas:\n",
    "\n",
    "- as 5 primeiras linhas irão conter o nome de 5 clubes de futebol, que devem ser colocadas na lista.\n",
    "- a última linha contém o nome do clube a ser pesquisado.\n",
    "\n",
    "### Saída\n",
    "Na saída, o programa deve mostrar as informações solicitadas, como no exemplo abaixo:\n",
    "\n",
    "| Exemplo de entrada | Exemplo de saída              |\n",
    "|--------------------|-------------------------------|\n",
    "| Flamengo <br> Palmeiras <br> Gremio <br> Sao Paulo <br> Vasco <br> Gremio | Os 3 primeiros colocados sao: <br> Flamengo <br> Palmeiras <br> Gremio <br><br> Os 2 ultimos colocados são <br> Sao Paulo <br> Vasco <br><br> times em ordem alfabetica: <br> Flamengo <br> Gremio <br> Palmeiras <br> Sao Paulo <br> Vasco <br><br> O Gremio esta na posicao 3. |"
   ]
  },
  {
   "cell_type": "code",
   "execution_count": 1,
   "id": "3d8f201b",
   "metadata": {},
   "outputs": [
    {
     "name": "stdout",
     "output_type": "stream",
     "text": [
      "Os 3 primeiros colocados sao:\n",
      "Flamengo\n",
      "Palmeiras\n",
      "Gremio\n",
      "Os 2 ultimos colocados sao:\n",
      "Sao Paulo\n",
      "Vasco\n",
      "Times em ordem alfabetica:\n",
      "Flamengo\n",
      "Gremio\n",
      "Palmeiras\n",
      "Sao Paulo\n",
      "Vasco\n",
      "O Gremio esta na posicao 3.\n"
     ]
    }
   ],
   "source": [
    "team_names = [input() for _ in range(5)]\n",
    "\n",
    "print(\"Os 3 primeiros colocados sao:\")\n",
    "for current_team in team_names[:3]:\n",
    "    print(current_team)\n",
    "\n",
    "print(\"Os 2 ultimos colocados sao:\")\n",
    "for current_team in team_names[-2:]:\n",
    "    print(current_team)\n",
    "\n",
    "print(\"Times em ordem alfabetica:\")\n",
    "for current_team in sorted(team_names):\n",
    "    print(current_team)\n",
    "\n",
    "team_search = input()\n",
    "ranking = team_names.index(team_search) + 1\n",
    "print(f\"O {team_search} esta na posicao {ranking}.\")"
   ]
  },
  {
   "cell_type": "markdown",
   "id": "92163994",
   "metadata": {},
   "source": [
    "# Exercicio 2\n",
    "\n",
    "Faça um programa que leia os modelos de smartphones de 2 lojas e os insira em 2 listas, uma para cada loja.\n",
    "\n",
    "Depois, o programa deve:\n",
    "\n",
    "- Mostrar todos os modelos que estarão disponíveis para compra se você visitar qualquer uma das lojas (união dos conjuntos).\n",
    "- Mostrar apenas os modelos que estão disponíveis em ambas as lojas (interseção dos conjuntos).\n",
    "\n",
    "### Entrada\n",
    "A entrada consiste de várias linhas:\n",
    "- A primeira linha contém um único número inteiro N1, correspondente à quantidade de modelos da Loja 1.\n",
    "- As N1 linhas aseguir irão conter uma string cada, representando os nomes dos modelos de smartphones da Loja 1.\n",
    "- A próxima linha contém um único número inteiro N2, correspondente à quantidade de modelos da Loja 2.\n",
    "- As N2 linhas aseguir irão conter uma string cada, representando os nomes dos modelos de smartphones da Loja 2.\n",
    "\n",
    "### Saída\n",
    "Na saída, o programa deve mostrar os modelos disponíveis para compra se você visitar qualquer uma das lojas, e depois os modelos que aparecem em ambas as lojas. As saídas devem seguir os formatos indicados no exemplo abaixo.\n",
    "\n",
    "**IMPORTANTE: mostre os modelos em ordem alfabética.**\n",
    "\n",
    "| Exemplo de entrada | Exemplo de saída                                                |\n",
    "|--------------------|-----------------------------------------------------------------|\n",
    "| 4 <br> iPhone 14 <br> Galaxy S22 <br> Moto G60 <br> Pixel 7 <br> 3 <br> Galaxy S22 <br> Pixel 7 <br> Xiaomi 12 | Modelos disponíveis em pelo menos uma das lojas: <br> {'Galaxy S22', 'iPhone 14', 'Moto G60', 'Pixel 7', 'Xiaomi 12'} <br><br> Modelos disponíveis em ambas as lojas: <br> {'Galaxy S22', 'Pixel 7'} |"
   ]
  },
  {
   "cell_type": "code",
   "execution_count": 5,
   "id": "747251d3",
   "metadata": {},
   "outputs": [
    {
     "name": "stdout",
     "output_type": "stream",
     "text": [
      "Modelos disponíveis em pelo menos uma das lojas:\n",
      "{'galaxy s22', 'iphone 14', 'moto g60', 'pixel 7', 'xiaomi 12'}\n",
      "Modelos disponíveis em ambas as lojas:\n",
      "{'galaxy s22', 'pixel 7'}\n"
     ]
    }
   ],
   "source": [
    "n1 = int(input())\n",
    "store1 = [input().strip() for _ in range(n1)]\n",
    "\n",
    "n2 = int(input())\n",
    "store2 = [input().strip() for _ in range(n2)]\n",
    "\n",
    "union = set(store1) | set(store2)\n",
    "intersection = set(store1) & set(store2)\n",
    "\n",
    "def format_set(s):\n",
    "    return \"{\" + \", \".join(f\"'{item}'\" for item in sorted(s)) + \"}\"\n",
    "\n",
    "print(\"Modelos disponíveis em pelo menos uma das lojas:\")\n",
    "print(format_set(union))\n",
    "print(\"Modelos disponíveis em ambas as lojas:\")\n",
    "print(format_set(intersection))"
   ]
  },
  {
   "cell_type": "markdown",
   "id": "71b6e105",
   "metadata": {},
   "source": [
    "# Exercicio 3\n",
    "\n",
    "Faça um programa que leia o nome e a média de um aluno e guarde-os em um dicionário.\n",
    "\n",
    "Em seguida, a partir da média (para ser aprovado deve ter média >=50), gere a situação final do aluno (‘AP’\n",
    "ou ‘RP’), que também deve ser guardada neste dicionário.\n",
    "\n",
    "No final, mostre todo o conteúdo deste dicionário;\n",
    "\n",
    "### Entrada\n",
    "A entrada consiste de 2 linhas:\n",
    "\n",
    "- A primeira linha contém o nome do aluno\n",
    "- A segunda linha contém a média do aluno (um número inteiro)\n",
    "\n",
    "### Saída\n",
    "Na saída, deve mostrar o dicionário gerado\n",
    "\n",
    "| Exemplo de entrada | Exemplo de saída                                 |\n",
    "|--------------------|--------------------------------------------------|\n",
    "| Renzo <br> 90      | {'nome': 'Renzo', 'media': 90, 'situacao': 'AP'} |\n"
   ]
  },
  {
   "cell_type": "code",
   "execution_count": null,
   "id": "152cb558",
   "metadata": {},
   "outputs": [
    {
     "name": "stdout",
     "output_type": "stream",
     "text": [
      "{'nome': 'Renzo', 'media': 90, 'situacao': 'AP'}\n"
     ]
    }
   ],
   "source": [
    "student_name = input(\"Digite o nome do aluno: \")\n",
    "student_avg = int(input(\"Digite a média do aluno: \"))\n",
    "\n",
    "student_dict = {\n",
    "    \"nome\": student_name,\n",
    "    \"media\": student_avg,\n",
    "    \"situacao\": \"RP\"\n",
    "}\n",
    "\n",
    "if student_avg >= 50:\n",
    "    student_dict[\"situacao\"] = \"AP\"\n",
    "    \n",
    "print(student_dict)"
   ]
  },
  {
   "cell_type": "markdown",
   "id": "f853ca5d",
   "metadata": {},
   "source": [
    "# Exercicio 4\n",
    "\n",
    "Faça um programa que leia o nome e peso de 5 pessoas e no final mostre os nomes da pessoa mais pesada e da mais leve.\n",
    "\n",
    "### Entrada\n",
    "A entrada consiste de 6 linhas:\n",
    "\n",
    "- A primeira linha contém o nome da primeira pessoa\n",
    "- A segunda linha contém o peso da primeira pessoa (um número real)\n",
    "- A terceira linha contém o nome da segunda pessoa\n",
    "- A quarta linha contém o peso da segunda pessoa e assim por diante.\n",
    "\n",
    "### Saída\n",
    "Na saída, o programa deve mostrar os nomes da pessoa mais pesada e da pessoa mais leve, conforme o exemplo abaixo.\n",
    "\n",
    "| Exemplo de entrada | Exemplo de saída                 |\n",
    "|--------------------|----------------------------------|\n",
    "| Ana <br> 55 <br> Bruno <br> 80 <br> Carlos <br> 72 <br> Diana <br> 60 <br> Eduardo <br> 90 | Pessoa mais leve: Ana (55) <br><br> Pessoa mais pesada: Eduardo (90) |"
   ]
  },
  {
   "cell_type": "code",
   "execution_count": null,
   "id": "78b92b0c",
   "metadata": {},
   "outputs": [
    {
     "name": "stdout",
     "output_type": "stream",
     "text": [
      "Pessoa mais leve: Ana (55)\n",
      "Pessoa mais pesada: Eduardo (90)\n"
     ]
    }
   ],
   "source": [
    "people_list = []\n",
    "\n",
    "for _ in range(5): \n",
    "    people_list.append({\n",
    "        \"nome\": input(\"Digite seu nome: \"),\n",
    "        \"peso\": int(input(\"Digite seu peso: \")),\n",
    "    })\n",
    "\n",
    "people_list.sort(key=lambda x: x['peso'])\n",
    "\n",
    "print(f\"Pessoa mais leve: {people_list[0]['nome']} ({people_list[0]['peso']})\")\n",
    "print(f\"Pessoa mais pesada: {people_list[-1]['nome']} ({people_list[-1]['peso']})\")"
   ]
  },
  {
   "cell_type": "markdown",
   "id": "111c4ef2",
   "metadata": {},
   "source": [
    "# Exercicio 5\n",
    "\n",
    "Desenvolva um programa que leia o nome, idade e sexo de n pessoas e mostre:\n",
    "\n",
    "a. A média de idade do grupo;\n",
    "b. Quantas mulheres têm menos de 20 anos.\n",
    "**Dica: em Python, os operadores booleanos básicos são and, or e not.**\n",
    "\n",
    "### Entrada\n",
    "A entrada consiste de vároas linhas:\n",
    "\n",
    "- A primeira linha contém um único número inteiro N, que corresponde à quantidade de pessoas a serem cadastradas.\n",
    "\n",
    "Para cada pessoa, tem-se 3 linhas:\n",
    "\n",
    "- a primeira linha contém uma string com o nome da pessoa\n",
    "- a segunda linha contém um inteiro, que corresponde à idade da pessoa\n",
    "- a terceira linha contém uma string que pode ser 'homem' ou 'mulher'\n",
    "\n",
    "### Saída\n",
    "Na saída, o programa deve mostrar os as estatísticas solicitadas, conforme o exemplo abaixo.\n",
    "\n",
    "| Exemplo de entrada | Exemplo de saída                            |\n",
    "|--------------------|---------------------------------------------|\n",
    "| 3 <br> Ana <br> 18 <br> mulher <br> Bruno <br> 25 <br> homem <br> Carla <br> 22 <br> mulher     | Media de idade do grupo: 21.666666666666668 <br> Mulheres com menos de 20 anos: 1 |"
   ]
  },
  {
   "cell_type": "code",
   "execution_count": null,
   "id": "d15849af",
   "metadata": {},
   "outputs": [
    {
     "ename": "SyntaxError",
     "evalue": "unterminated string literal (detected at line 17) (1214738528.py, line 17)",
     "output_type": "error",
     "traceback": [
      "  \u001b[36mCell\u001b[39m\u001b[36m \u001b[39m\u001b[32mIn[11]\u001b[39m\u001b[32m, line 17\u001b[39m\n\u001b[31m    \u001b[39m\u001b[31mif womans_with_less_20_years_old[\"\u001b[39m\n                                     ^\n\u001b[31mSyntaxError\u001b[39m\u001b[31m:\u001b[39m unterminated string literal (detected at line 17)\n"
     ]
    }
   ],
   "source": [
    "people_number = int(input(\"Digite o número de pessoas: \"))\n",
    "people_list = []\n",
    "\n",
    "for _ in range(people_number):\n",
    "    people_list.append(\n",
    "        {\n",
    "            \"name\": input(\"Digite o nome: \"),\n",
    "            \"age\": int(input(\"Digite a idade: \")),\n",
    "            \"gender\": input(\"Digite o gênero (M/F): \").upper(),\n",
    "        }\n",
    "    )\n",
    "\n",
    "people_avg = sum(person[\"age\"] for person in people_list) / people_number\n",
    "\n",
    "people_list.sort(key=lambda x: x[\"age\"])\n",
    "\n",
    "for woman in people_list:\n",
    "    if people_list['age']\n",
    "print(f\"Média de idade do grupo: {people_avg}\")\n",
    "print(f\"Mulheres com menos de 20 anos: {womans_with_less_20_years_old}\")"
   ]
  }
 ],
 "metadata": {
  "kernelspec": {
   "display_name": "Python 3",
   "language": "python",
   "name": "python3"
  },
  "language_info": {
   "codemirror_mode": {
    "name": "ipython",
    "version": 3
   },
   "file_extension": ".py",
   "mimetype": "text/x-python",
   "name": "python",
   "nbconvert_exporter": "python",
   "pygments_lexer": "ipython3",
   "version": "3.13.3"
  }
 },
 "nbformat": 4,
 "nbformat_minor": 5
}
