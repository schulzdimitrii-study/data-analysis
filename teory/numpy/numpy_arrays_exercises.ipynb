{
 "cells": [
  {
   "cell_type": "code",
   "execution_count": 2,
   "id": "93e1c457",
   "metadata": {},
   "outputs": [],
   "source": [
    "import numpy as np"
   ]
  },
  {
   "cell_type": "markdown",
   "id": "374c1b08",
   "metadata": {},
   "source": [
    "# Exercicio 1\n",
    "\n",
    "Faça um programa que crie dois NumPy Arrays unidimensionais de tamanho 8:\n",
    "\n",
    "- O primeiro deve ser preenchido automaticamente apenas com o número **1**.\n",
    "\n",
    "- O segundo deve ser formado por **números inteiros digitados pelo usuário**, no intervalo de 0 a 9.\n",
    "\n",
    "Em seguida, o programa deve:\n",
    "\n",
    "1. Somar os dois Arrays e armazenar o resultado em um terceiro Array.\n",
    "\n",
    "2. Calcular a soma de todos os elementos do Array resultante.\n",
    "\n",
    "3. Remodele o array do item 1 segundo a seguinte regra:\n",
    "\n",
    "    - Se a soma for **maior ou igual a 40**, remodelar o Array para uma matriz de tamanho **4 × 2** (4 linhas e 2 colunas).\n",
    "\n",
    "    - Caso contrário, remodelar o Array para uma matriz de tamanho **2 × 4** (2 linhas e 4 colunas).\n",
    "\n",
    " \n",
    "### Entrada\n",
    "A entrada consiste de uma única linha, com 8 números inteiros.\n",
    "\n",
    "### Saída\n",
    "Na saĩda, o programa deve mostrar os resultados dos itens 1, 2 e 3, como no exemplo abaixo.\n",
    "\n",
    "| Exemplo de Entrada | Exemplo de Saída |\n",
    "|--------------------|------------------|\n",
    "| 5 2 0 3 4 1 7 6    | Array resultante da soma: <br>[6 3 1 4 5 2 8 7]<br> <br>Soma de todos os elementos: <br>36<br> <br>Matriz (2 x 4):<br>[[6 3 1 4]<br> [5 2 8 7]] |"
   ]
  },
  {
   "cell_type": "code",
   "execution_count": 6,
   "id": "ee160ebb",
   "metadata": {},
   "outputs": [
    {
     "name": "stdout",
     "output_type": "stream",
     "text": [
      "Array resultante da soma: \n",
      " [3 3 3 3 3 3 3 3]\n",
      "\n",
      "\n",
      "Soma de todos os elementos: \n",
      " 24\n",
      "\n",
      "\n",
      "Matriz (2 x 4):\n",
      "[[3 3 3 3]\n",
      " [3 3 3 3]]\n"
     ]
    }
   ],
   "source": [
    "first_array = np.array([1, 1, 1, 1, 1, 1, 1, 1], dtype=int)\n",
    "second_array = np.array(input().split(), dtype=int)\n",
    "\n",
    "third_array = np.add(first_array, second_array)\n",
    "sum_elements = np.sum(third_array)\n",
    "print (f'Array resultante da soma: \\n {third_array}')\n",
    "print('\\n')\n",
    "print(f'Soma de todos os elementos: \\n {sum_elements}')\n",
    "print('\\n')\n",
    "\n",
    "if sum_elements < 40:\n",
    "    print(\"Matriz (2 x 4):\")\n",
    "    print(third_array.reshape(2, 4))\n",
    "else:\n",
    "    print(\"Matriz (4 x 2):\")\n",
    "    print(third_array.reshape(4, 2))"
   ]
  },
  {
   "cell_type": "markdown",
   "id": "383466fe",
   "metadata": {},
   "source": [
    "# Exercicio 2\n",
    "\n",
    "Faça um programa que leia 4 números inteiros N1, N2, N3 e N4.\n",
    "\n",
    "Depois o programa deve criar 2 arrays: \n",
    "\n",
    "o primeiro com os números pares no intervalo [N1, N2]\n",
    "o segundo com os números pares no intervalo [N3, N4]\n",
    "Finalmente, o programa deve concatenar estes 2 arrays e mostrar o array resultante em ordem crescente.\n",
    "\n",
    "Observação: N1 não será necessariamente menor que N2, e nem N3 será necessariamente menor que N4. Inclua testes no seu programa para que ele funcione adequadamente.\n",
    "\n",
    "### Entrada\n",
    "A entrada consiste de uma única linha, com 4 números inteiros, correspondentes a N1, N2, N3 e N4.\n",
    "\n",
    " \n",
    "### Saída\n",
    "Na saĩda, o programa deve mostrar o array resultante da concatenação dos 2 arrays, em ordem crescente.\n",
    "\n",
    "| Exemplos de Entrada | Exemplos de Saída |\n",
    "|---------------------|-------------------|\n",
    "| 2 4 9 5             | [2, 4, 6, 8]      |"
   ]
  },
  {
   "cell_type": "code",
   "execution_count": 15,
   "id": "dbedee3c",
   "metadata": {},
   "outputs": [
    {
     "name": "stdout",
     "output_type": "stream",
     "text": [
      "[2 4 6 8]\n"
     ]
    }
   ],
   "source": [
    "# Ler 4 numeros inteiros\n",
    "numbers = input(\"Digite 4 numeros inteiros: \").split()\n",
    "\n",
    "# Verificar se o primeiro é maior que o segundo\n",
    "if int(numbers[0]) > int(numbers[1]):\n",
    "    numbers[0], numbers[1] = numbers[1], numbers[0]\n",
    "if int(numbers[2]) > int(numbers[3]):\n",
    "    numbers[2], numbers[3] = numbers[3], numbers[2]\n",
    "    \n",
    "# Criar os arrays com os numeros pares\n",
    "first_array = []\n",
    "second_array = []\n",
    "\n",
    "for i in range(int(numbers[0]), int(numbers[1]) + 1):\n",
    "    if i % 2 == 0:\n",
    "        first_array.append(i)\n",
    "        \n",
    "\n",
    "for j in range(int(numbers[2]), int(numbers[3]) + 1):\n",
    "    if j % 2 == 0:\n",
    "        second_array.append(j)\n",
    "\n",
    "# Concatenar os arrays e ordenar\n",
    "concated_array = np.concatenate((\n",
    "    np.array(first_array, dtype=int), \n",
    "    np.array(second_array, dtype=int)\n",
    "))\n",
    "\n",
    "print(f\"{np.sort(concated_array)}\")"
   ]
  },
  {
   "cell_type": "markdown",
   "id": "b8fa2a65",
   "metadata": {},
   "source": [
    "# Exercicio 3\n",
    "\n",
    "Vamos fazer um mini campo minado\n",
    "\n",
    "Faça um programa que crie um numpy array 2x2 formado apenas por 0s.\n",
    "\n",
    "Depois o programa deve ler uma posição desta matriz (linha e coluna), e inserir o número 1 nesta posição\n",
    "\n",
    "Finalmente, o programa deve ler mais 3 posições, correspondentes às jogadas do usuário.\n",
    "\n",
    "Se estas 3 posições corresponderem a posições em que o número 1 não se encontra, mostre a mensagem: “Congratulations! You beat the game!”\n",
    "\n",
    "Senão, se dentro das 3 primeiras jogadas ele achar o número 1, mostre a mensagem “Game Over! Try Again!”\n",
    "\n",
    "### Entrada\n",
    "A entrada consiste de várias linhas:\n",
    "\n",
    "a primeira linha contém 2 inteiros, que correspondem à posição onde o 1 vai ser inserido\n",
    "as 3 linhas a seguir contêm 2 inteiros cada, que correspondem às jogadas.\n",
    "\n",
    "### Saída\n",
    "Na saĩda, o programa deve mostrar as mensagens solicitadas, de acordo com o resultado do jogo.\n",
    "\n",
    "| Exemplos de Entrada | Exemplos de Saída |\n",
    "|---------------------|-------------------|\n",
    "| 0 0<br>0 1<br>1 0<br>1 1 | Congratulations! You beat the game! |\n",
    "| 0 0<br>0 1<br>1 0<br>1 0 | Game Over! Try Again! |\n"
   ]
  },
  {
   "cell_type": "code",
   "execution_count": null,
   "id": "16a4f776",
   "metadata": {},
   "outputs": [
    {
     "name": "stdout",
     "output_type": "stream",
     "text": [
      "Game Over! Try Again!\n"
     ]
    }
   ],
   "source": [
    "# Generate a numpy array 2x2 with zeros\n",
    "random_matrix = np.zeros((2, 2))\n",
    "\n",
    "# Read the matriz position and insert the number 1\n",
    "line, column = input(i for _ in range(2)).split()\n",
    "\n",
    "random_matrix[int(line), int(column)] = 1\n",
    "\n",
    "# Read more 3 positions and present results\n",
    "for _ in range(3):\n",
    "    line, column = input(i for _ in range(2)).split()\n",
    "\n",
    "    if random_matrix[int(line), int(column)] == 1:\n",
    "        print(\"Game Over! Try Again!\")\n",
    "        break\n",
    "\n",
    "    random_matrix[int(line), int(column)] = 1\n",
    "else:\n",
    "    print(\"Congratulations! You beat the game!\")"
   ]
  },
  {
   "cell_type": "markdown",
   "id": "cb47ee62",
   "metadata": {},
   "source": [
    "# Exercicio 4\n",
    "\n",
    "Faça um programa que:\n",
    "\n",
    "Leia uma matriz do usuário, linha por linha. Cada linha contém números inteiros separados por espaço.\n",
    "\n",
    "1. Crie um NumPy array com os valores informados.\n",
    "\n",
    "2. Extraia o número de linhas e colunas da matriz usando o atributo shape.\n",
    "\n",
    "3. Multiplique o número de linhas pelo número de colunas para obter o total de elementos da matriz.\n",
    "\n",
    "4. Informe se a matriz poderia ser convertida em um vetor unidimensional com número par ou ímpar de elementos.\n",
    "\n",
    "### Entrada\n",
    "\n",
    "- A primeira linha da entrada terá um único inteiro L, que corresponde à quantidade de linhas da matriz.\n",
    "\n",
    "- Seguem-se L linhas, que correspondem aos elementos das linhas da matriz, com números separados por espaço.\n",
    "\n",
    "### Saída\n",
    "\n",
    "Na saída o programa deve mostrar:\n",
    "\n",
    "- A quantidade de linhas e colunas da matriz.\n",
    "\n",
    "- Uma mensagem indicando se o vetor resultante teria número par ou ímpar de elementos.\n",
    "\n",
    "| Exemplos de Entrada | Exemplos de Saída |\n",
    "|---------------------|-------------------|\n",
    "| 2<br>1 2 3<br>4 5 6 | 2 linhas <br><br> 3 colunas<br><br>O vetor resultante teria número par de elementos. |"
   ]
  },
  {
   "cell_type": "code",
   "execution_count": null,
   "id": "2c94cf2e",
   "metadata": {},
   "outputs": [
    {
     "name": "stdout",
     "output_type": "stream",
     "text": [
      "2 linhas \n",
      "\n",
      "3 colunas\n",
      "O vetor resultante teria um número par de elementos\n"
     ]
    }
   ],
   "source": [
    "# Read the number of lines of the matriz\n",
    "matriz_lines = int(input())\n",
    "\n",
    "# Read the matriz values\n",
    "random_matrix = np.array([input().split() for _ in range(matriz_lines)], dtype=int)\n",
    "\n",
    "print(f\"{random_matrix.shape[0]} linhas \\n\")\n",
    "print(f\"{random_matrix.shape[1]} colunas\")\n",
    "\n",
    "total_elements = random_matrix.size\n",
    "parity = \"par\" if total_elements % 2 == 0 else \"ímpar\"\n",
    "print(f\"O vetor resultante teria um número {parity} de elementos\")"
   ]
  },
  {
   "cell_type": "markdown",
   "id": "a11aecab",
   "metadata": {},
   "source": [
    "# Exercicio 5\n",
    "\n",
    "Faça um programa que:\n",
    "\n",
    "1. Leia um número inteiro do usuário que será usado como seed para gerar números aleatórios.\n",
    "\n",
    "2. Crie uma matriz 4x4 formada por números aleatórios inteiros entre 1 e 50 usando o NumPy.\n",
    "\n",
    "3. Mostre:\n",
    "\n",
    "    a. A média de cada linha e de cada coluna da matriz gerada.\n",
    "    \n",
    "    b. O maior valor entre as médias das linhas e o maior valor entre as médias das colunas.\n",
    "    \n",
    "    c. A quantidade de aparições de cada número presente na matriz. Em seguida, mostre apenas os números que aparecem exatamente 2 vezes.\n",
    "\n",
    "### Entrada\n",
    "\n",
    "- Um único inteiro: a semente (seed) para gerar os números aleatórios.\n",
    "\n",
    "### Saída\n",
    "\n",
    "- Médias de cada linha e coluna.\n",
    "\n",
    "- Maior valor das médias das linhas e das colunas.\n",
    "\n",
    "- Frequência de cada número presente na matriz.\n",
    "\n",
    "- Números que aparecem exatamente 2 vezes.\n",
    "\n",
    "| Exemplo de Entrada | Exemplo de Saída |\n",
    "|--------------------|------------------|\n",
    "| 10 | Média das linhas: [28.5 19.25 23.0 28.75] <br> Média das colunas: [24.5 19.5 25.25 30.25] <br> Maior média das linhas: 28.75 <br> Maior média das colunas: 30.25 <br> Contagem de números: {4: 1, 9: 1, 13: 1, 29: 1, 5: 1, 33: 1, 24: 1, 14: 1, 1: 1, 18: 1, 20: 1, 33: 1, 31: 1, 28: 1, 12: 1, 30: 1} <br> Números que aparecem 2 vezes: [33] |"
   ]
  },
  {
   "cell_type": "code",
   "execution_count": 19,
   "id": "2e0c762f",
   "metadata": {},
   "outputs": [
    {
     "name": "stdout",
     "output_type": "stream",
     "text": [
      "Média das linhas: [16.   33.75 34.5  23.75]\n",
      "Média das colunas: [29.75 24.25 33.75 20.25]\n",
      "Maior média das linhas: 34.5\n",
      "Maior média das colunas: 33.75\n",
      "Valores: [ 1  9 10 16 26 29 30 37 41 43 49 50]\n",
      "Contagens: [2 1 2 1 1 1 2 1 1 1 1 2]\n",
      "Números que aparecem 2 vezes: [ 1 10 30 50]\n"
     ]
    }
   ],
   "source": [
    "# Read a seed number and generate random numbers\n",
    "seed = int(input())\n",
    "\n",
    "# Generate the matriz with random numbers between 1 and 50\n",
    "np.random.seed(seed)\n",
    "random_matrix = np.random.randint(1, 51, size=(4, 4))\n",
    "\n",
    "# Calculate the averages of lines and columns\n",
    "line_averages = random_matrix.mean(axis=1)\n",
    "column_averages = random_matrix.mean(axis=0)\n",
    "\n",
    "# Find the maximum average in lines and columns\n",
    "max_lines = line_averages.max()\n",
    "max_column = column_averages.max()\n",
    "\n",
    "# Count occurrences of each number in the matrix\n",
    "matrix_values, value_occurrences = np.unique(random_matrix, return_counts=True)\n",
    "\n",
    "# get numbers that appear exactly 2 times\n",
    "show_2 = matrix_values[value_occurrences == 2]\n",
    "\n",
    "# Show Results\n",
    "print(f\"Média das linhas: {line_averages}\")\n",
    "print(f\"Média das colunas: {column_averages}\")\n",
    "print(f\"Maior média das linhas: {max_lines}\")\n",
    "print(f\"Maior média das colunas: {max_column}\")\n",
    "print(f'Valores: {matrix_values}')\n",
    "print(f'Contagens: {value_occurrences}')\n",
    "print(f\"Números que aparecem 2 vezes: {show_2}\")"
   ]
  }
 ],
 "metadata": {
  "kernelspec": {
   "display_name": ".venv",
   "language": "python",
   "name": "python3"
  },
  "language_info": {
   "codemirror_mode": {
    "name": "ipython",
    "version": 3
   },
   "file_extension": ".py",
   "mimetype": "text/x-python",
   "name": "python",
   "nbconvert_exporter": "python",
   "pygments_lexer": "ipython3",
   "version": "3.13.5"
  }
 },
 "nbformat": 4,
 "nbformat_minor": 5
}
