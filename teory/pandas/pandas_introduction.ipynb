{
 "cells": [
  {
   "cell_type": "markdown",
   "id": "9ffbad85",
   "metadata": {},
   "source": [
    "# Pandas"
   ]
  },
  {
   "cell_type": "code",
   "execution_count": 2,
   "id": "8c04d243",
   "metadata": {},
   "outputs": [],
   "source": [
    "import pandas as pd"
   ]
  },
  {
   "cell_type": "markdown",
   "id": "9142ae58",
   "metadata": {},
   "source": [
    "# Pandas Series\n",
    "\n",
    "O bloco abaixo demonstra a criação e manipulação de pandas Series:\n",
    "\n",
    "- Cria uma Series com labels personalizados e acessa um elemento específico\n",
    "\n",
    "- Demonstra operações matemáticas entre Series, incluindo tratamento de valores ausentes\n",
    "\n",
    "- Mostra funções de agregação e diferentes formas de indexação/fatiamento de Series"
   ]
  },
  {
   "cell_type": "code",
   "execution_count": 6,
   "id": "22dd2d86",
   "metadata": {},
   "outputs": [
    {
     "name": "stdout",
     "output_type": "stream",
     "text": [
      "10\n"
     ]
    }
   ],
   "source": [
    "labels = ['A', 'B', 'C']\n",
    "dados = [10, 20, 30]\n",
    "s = pd.Series(index=labels, data=dados)\n",
    "print(s[\"A\"])"
   ]
  },
  {
   "cell_type": "code",
   "execution_count": null,
   "id": "7caad59c",
   "metadata": {},
   "outputs": [
    {
     "name": "stdout",
     "output_type": "stream",
     "text": [
      "a    20.0\n",
      "b     NaN\n",
      "c    80.0\n",
      "d     NaN\n",
      "dtype: float64\n",
      "a    20.0\n",
      "b    20.0\n",
      "c    80.0\n",
      "d    80.0\n",
      "dtype: float64\n"
     ]
    }
   ],
   "source": [
    "s1 = pd.Series({'a': 10, 'b': 20, 'c': 30})\n",
    "s2 = pd.Series({'a': 10, 'c': 50, 'd': 80})\n",
    "\n",
    "print(s1 + s2)\n",
    "print(s1.add(s2, fill_value=0)) # Preenche com zero os dados que não existem\n"
   ]
  },
  {
   "cell_type": "markdown",
   "id": "05a2c6b1",
   "metadata": {},
   "source": [
    "Mostrando que existe integração entre pandas & numpy"
   ]
  },
  {
   "cell_type": "code",
   "execution_count": null,
   "id": "ed71de2b",
   "metadata": {},
   "outputs": [
    {
     "name": "stdout",
     "output_type": "stream",
     "text": [
      "60\n",
      "a    10\n",
      "c    30\n",
      "dtype: int64\n"
     ]
    }
   ],
   "source": [
    "import numpy as np\n",
    "\n",
    "print(np.sum(s1))\n",
    "print(s1[[\"a\",\"c\"]]) # Mostra somente os elementos \"a\" e \"c\"\n",
    "print(s1[1:]) # Mostra do segundo elemento ate o final"
   ]
  },
  {
   "cell_type": "markdown",
   "id": "a7e1411d",
   "metadata": {},
   "source": [
    "# DataFrames"
   ]
  },
  {
   "cell_type": "code",
   "execution_count": null,
   "id": "91a4562d",
   "metadata": {},
   "outputs": [
    {
     "name": "stdout",
     "output_type": "stream",
     "text": [
      "    W   Z\n",
      "A  10   1\n",
      "B  29  49\n",
      "C  30   1\n",
      "D  43  17\n",
      "E  37  25\n",
      "10\n"
     ]
    }
   ],
   "source": [
    "# Dataframes\n",
    "np.random.seed(10)\n",
    "\n",
    "# Cria uma matriz 5x4 com valores aleatórios\n",
    "df = pd.DataFrame(\n",
    "    index=['A', 'B', 'C', 'D', 'E'],\n",
    "    columns=['W', 'X', 'Y', 'Z'],\n",
    "    data=np.random.randint(1, 50, [5, 4])\n",
    ")\n",
    "\n",
    "print(df[['W', 'Z']]) # Mostra valores das colunas W e Z\n",
    "print(df['W']['A']) # Mostra o valor da linha A e coluna W"
   ]
  },
  {
   "cell_type": "code",
   "execution_count": 21,
   "id": "e006ec57",
   "metadata": {},
   "outputs": [
    {
     "name": "stdout",
     "output_type": "stream",
     "text": [
      "    X   Y   Z\n",
      "A  37  16   1\n",
      "B  26  30  49\n",
      "A    37\n",
      "B    26\n",
      "Name: X, dtype: int64\n"
     ]
    }
   ],
   "source": [
    "# loc e iloc\n",
    "print(df.loc[['A', 'B'], ['X','Y', 'Z']])\n",
    "print(df.iloc[0:2, 1])"
   ]
  },
  {
   "cell_type": "code",
   "execution_count": null,
   "id": "1e7121ca",
   "metadata": {},
   "outputs": [],
   "source": [
    "# How to read a CSV file into a DataFrame\n",
    "df = pd.read_csv('paises.csv', delimiter=';')"
   ]
  }
 ],
 "metadata": {
  "kernelspec": {
   "display_name": ".venv",
   "language": "python",
   "name": "python3"
  },
  "language_info": {
   "codemirror_mode": {
    "name": "ipython",
    "version": 3
   },
   "file_extension": ".py",
   "mimetype": "text/x-python",
   "name": "python",
   "nbconvert_exporter": "python",
   "pygments_lexer": "ipython3",
   "version": "3.13.5"
  }
 },
 "nbformat": 4,
 "nbformat_minor": 5
}
