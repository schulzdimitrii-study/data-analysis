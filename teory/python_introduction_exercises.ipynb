{
 "cells": [
  {
   "cell_type": "markdown",
   "id": "7df61cf0",
   "metadata": {},
   "source": [
    "# Exercicio 1\n",
    "\n",
    "Crie um programa que leia seu nome completo e mostre:\n",
    "\n",
    "- Seu nome com todas as letras maiúsculas\n",
    "- Seu nome com todas as letras minúsculas\n",
    "- Quantas letras ao todo tem seu nome\n",
    "- E como seria adicionássemos “do Inatel” ao seu nome?\n",
    "\n",
    "### Entrada\n",
    "A entrada consiste de uma string que recebe o nome da pessoa.\n",
    " \n",
    "### Saída\n",
    "Na saída, o programa deve mostrar os dados solicitados no enunciado, como no exemplo abaixo.\n",
    " \n",
    "| Exemplo de entrada     | Exemplo de saída                 |\n",
    "|------------------------|----------------------------------|\n",
    "| Carlos Alberto Ynoguti | CARLOS ALBERTO YNOGUTI           |\n",
    "|                        | carlos alberto ynoguti           |\n",
    "|                        | 22                               |\n",
    "|                        | Carlos Alberto Ynoguti do Inatel |"
   ]
  },
  {
   "cell_type": "code",
   "execution_count": 13,
   "id": "370bfe1d",
   "metadata": {},
   "outputs": [
    {
     "name": "stdout",
     "output_type": "stream",
     "text": [
      "CARLOS ALBERTO YNOGUTI\n",
      "carlos alberto ynoguti\n",
      "22\n",
      "Carlos Alberto Ynoguti do Inatel\n"
     ]
    }
   ],
   "source": [
    "nome = input(\"Digite seu nome completo: \")\n",
    "\n",
    "print(nome.upper())\n",
    "print(nome.lower())\n",
    "print(len(nome))\n",
    "print(f\"{nome} do Inatel\")\n"
   ]
  },
  {
   "cell_type": "markdown",
   "id": "ee293720",
   "metadata": {},
   "source": [
    "# Exercicio 2\n",
    "\n",
    "Mostre a tabuada de um número que o usuário escolher dentro de um intervalo específico também escolhido por ele.\n",
    "\n",
    "### Entrada\n",
    "A entrada consiste de 3 linhas:\n",
    "\n",
    "A primeira linha contém o número N, do qual se quer a tabuada.\n",
    "As duas linhas a seguir contém 2 números inteiros, que correspondem ao início e final do intervalo. O início do intervalo deve sempre ser o menor número.\n",
    "\n",
    "### Saída\n",
    "Na saída, o programa deve mostrar a tabuada de N, no intervalo especificado, incluindo os extremos.\n",
    "\n",
    "| Exemplo de entrada | Exemplo de saída |\n",
    "|--------------------|------------------|\n",
    "| 4                  | 4 x 2 = 8        |\n",
    "| 2                  | 4 x 3 = 12       |\n",
    "| 5                  | 4 x 4 = 16       |\n",
    "|                    | 4 x 5 = 20       |"
   ]
  },
  {
   "cell_type": "code",
   "execution_count": null,
   "id": "6baca4dc",
   "metadata": {},
   "outputs": [],
   "source": [
    "input_value = int(input(\"Add a number: \"))\n",
    "\n",
    "start = int(input(\"Start range: \"))\n",
    "end = int(input(\"End range: \"))\n",
    "\n",
    "if start > end:\n",
    "    aux = start\n",
    "    start = end\n",
    "    end = aux\n",
    "\n",
    "for num in range(start, end + 1):\n",
    "    result = input_value * num\n",
    "    print(f\"{input_value} x {num} = {result}\")"
   ]
  },
  {
   "cell_type": "markdown",
   "id": "63bd1bed",
   "metadata": {},
   "source": [
    "# Exercicio 3\n",
    "\n",
    "Faça um programa que leia o sexo de uma pessoa e diga se ela é homem (caso seja digitado M) ou mulher (caso seja digitado F). Caso seja digitado algo inválido, continue perguntando até que o usuário entre com um sexo válido\n",
    "\n",
    "### Entrada\n",
    "A entrada consiste de uma única letra.\n",
    "\n",
    "### Saída\n",
    "Na saída, o programa deve mostrar a mensagem \"homem\", se o caracter digitado for M, ou \"mulher\", se o caracter digitado for F. Se qualquer outro caracter for digitado, o programa deve mostrar a mensagem \"Caracter invalido\" e ler um outro caracter, até que um caracter válido seja digitado\n",
    "\n",
    "| Exemplo de entrada | Exemplo de saída  |\n",
    "|--------------------|-------------------|\n",
    "| H                  | Caracter invalido |\n",
    "| m                  | Caracter invalido |\n",
    "| M                  | homem             |"
   ]
  },
  {
   "cell_type": "code",
   "execution_count": 14,
   "id": "eb0e7207",
   "metadata": {},
   "outputs": [
    {
     "name": "stdout",
     "output_type": "stream",
     "text": [
      "Caracter invalido\n",
      "Caracter invalido\n",
      "homem\n"
     ]
    }
   ],
   "source": [
    "dict = {\"M\": \"homem\", \"F\": \"mulher\"}\n",
    "\n",
    "while True:\n",
    "    gender = input(\"\")\n",
    "\n",
    "    if gender not in dict:\n",
    "        print(\"Caracter invalido\")\n",
    "    else:\n",
    "        print(dict[gender])\n",
    "        break"
   ]
  },
  {
   "cell_type": "markdown",
   "id": "1fca2c26",
   "metadata": {},
   "source": [
    "# Exercicio 4\n",
    "\n",
    "Desenvolva um script que pergunte a distância de uma viagem em km. Calcule o preço da passagem, cobrando R$0.50 por Km para viagens até 200Km e R$0.45 para viagens mais longas.\n",
    "\n",
    "### Entrada\n",
    "A entrada consiste de um único inteiro, que corresponde à distância percorrida.\n",
    "\n",
    "### Saída\n",
    "Na saída, o programa deve mostrar o preço da passagem, com duas casas decimais.\n",
    "\n",
    "| Exemplos de entrada |\tExemplos de saída |\n",
    "|---------------------|-------------------|\n",
    "| 50\t              | 25.00             |\n",
    "| 450\t              | 202.50            |"
   ]
  },
  {
   "cell_type": "code",
   "execution_count": null,
   "id": "7cf8c33e",
   "metadata": {},
   "outputs": [
    {
     "name": "stdout",
     "output_type": "stream",
     "text": [
      "202.50\n"
     ]
    }
   ],
   "source": [
    "distance = float(input(\"Enter the distance in kilometers: \"))\n",
    "\n",
    "if distance <= 200:\n",
    "    cost = 0.5 * distance\n",
    "elif distance > 200:\n",
    "    cost = 0.45 * distance\n",
    "\n",
    "print(f'{cost:.2f}')"
   ]
  },
  {
   "cell_type": "markdown",
   "id": "990564bd",
   "metadata": {},
   "source": [
    "# Exercicio 5\n",
    "\n",
    "Faça um programa que leia um número entre 1000 e 9999 e mostre na tela\n",
    "\n",
    "- qual o número da unidade\n",
    "- número da dezena\n",
    "- número da centena\n",
    "- E número do milhar\n",
    "\n",
    "### Entrada\n",
    "A entrada consiste de um único inteiro entre 1000 e 9999.\n",
    "\n",
    "### Saída\n",
    "Na saída, o programa deve mostrar os dígitos que correspondem às unidades, dezenas, centenas e milhares, como no exemplo abaixo.\n",
    "\n",
    "| Exemplo de entrada | Exemplo de saída |\n",
    "|--------------------|------------------|\n",
    "| 1257               | Unidade: 7       |\n",
    "|                    | Dezena: 5        |\n",
    "|                    | Centena: 2       |\n",
    "|                    | Milhar: 1        |"
   ]
  },
  {
   "cell_type": "code",
   "execution_count": 6,
   "id": "aa02f5e6",
   "metadata": {},
   "outputs": [
    {
     "name": "stdout",
     "output_type": "stream",
     "text": [
      "Unidade: 7\n",
      "Dezena: 5\n",
      "Centena: 2\n",
      "Milhar: 1\n"
     ]
    }
   ],
   "source": [
    "number = int(input(\"Entre com um numero entre 1000 and 9999: \"))\n",
    "\n",
    "if 1000 <= number <= 9999:\n",
    "    unit = number % 10\n",
    "    tens = (number // 10) % 10\n",
    "    hundreds = (number // 100) % 10\n",
    "    thousands = (number // 1000) % 10\n",
    "\n",
    "    print(f'Unidade: {unit}')\n",
    "    print(f'Dezena: {tens}')\n",
    "    print(f'Centena: {hundreds}')\n",
    "    print(f'Milhar: {thousands}')\n",
    "else:\n",
    "    print(\"Número fora do intervalo permitido (1000 a 9999).\")"
   ]
  },
  {
   "cell_type": "markdown",
   "id": "3fd9e8e2",
   "metadata": {},
   "source": [
    "# Exercicio 6\n",
    "\n",
    "Peça ao usuário para entrar com um número decimal positivo. Em seguida, aplique e mostre o resultado:\n",
    "\n",
    "- da raiz quadrada deste número, com 3 casas decimais\n",
    "- função teto\n",
    "- função chão\n",
    "- sua parte inteira\n",
    "\n",
    "### Entrada\n",
    "A entrada consiste de um único número real.\n",
    "\n",
    "### Saída\n",
    "Na saída, o programa deve mostrar os resultados das operações solicitadas, como no exemplo abaixo.\n",
    "\n",
    "| Exemplo de entrada | Exemplo de saída |\n",
    "|--------------------|------------------|\n",
    "| 10.9999            | Raiz quadrada: 3.317 |\n",
    "|                    | Teto: 11         |\n",
    "|                    | Chão: 10         |\n",
    "|                    | Parte inteira: 10 |"
   ]
  },
  {
   "cell_type": "code",
   "execution_count": 15,
   "id": "eb22ea4d",
   "metadata": {},
   "outputs": [
    {
     "name": "stdout",
     "output_type": "stream",
     "text": [
      "Raiz quadrada: 3.317\n",
      "Teto: 11\n",
      "Chão: 10\n",
      "Parte Inteira: 10\n"
     ]
    }
   ],
   "source": [
    "import math\n",
    "\n",
    "decimal_number = float(input())\n",
    "\n",
    "sqrt_value = math.sqrt(decimal_number)\n",
    "ceil_value = math.ceil(decimal_number)\n",
    "floor_value = math.floor(decimal_number)\n",
    "integer_value = int(decimal_number)\n",
    "\n",
    "print(f\"Raiz quadrada: {sqrt_value:.3f}\")\n",
    "print(f\"Teto: {ceil_value}\")\n",
    "print(f\"Chão: {floor_value}\")\n",
    "print(f\"Parte Inteira: {integer_value}\")"
   ]
  }
 ],
 "metadata": {
  "kernelspec": {
   "display_name": "Python 3",
   "language": "python",
   "name": "python3"
  },
  "language_info": {
   "codemirror_mode": {
    "name": "ipython",
    "version": 3
   },
   "file_extension": ".py",
   "mimetype": "text/x-python",
   "name": "python",
   "nbconvert_exporter": "python",
   "pygments_lexer": "ipython3",
   "version": "3.13.3"
  }
 },
 "nbformat": 4,
 "nbformat_minor": 5
}
